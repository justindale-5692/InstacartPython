{
 "cells": [
  {
   "cell_type": "markdown",
   "id": "639cecb6",
   "metadata": {},
   "source": [
    "# 4.10 Coding Etiquette & Excel Reporting Part 1"
   ]
  },
  {
   "cell_type": "markdown",
   "id": "05672655",
   "metadata": {},
   "source": [
    "# Contents:\n",
    "1. Import Libraries and Data\n",
    "2. Data Cleaning and Wrangling\n",
    "3. Creating Columns and Flags\n",
    "4. Creating High activity customers subset and exporting\n",
    "5. Creating Customer Profiles\n",
    "6. Aggregating customer profiles\n",
    "7. Creating Visualizations\n",
    "8. Exporting Visualizations\n",
    "9. Exporting Data"
   ]
  },
  {
   "cell_type": "markdown",
   "id": "8defc9dc",
   "metadata": {},
   "source": [
    "# 1. Importing Libraries and Data"
   ]
  },
  {
   "cell_type": "code",
   "execution_count": 1,
   "id": "ee121830",
   "metadata": {},
   "outputs": [],
   "source": [
    "# Import Libraries\n",
    "\n",
    "import pandas as pd\n",
    "import numpy as np\n",
    "import os\n",
    "import matplotlib.pyplot as plt\n",
    "import seaborn as sns\n",
    "import scipy"
   ]
  },
  {
   "cell_type": "code",
   "execution_count": 2,
   "id": "16af611f",
   "metadata": {},
   "outputs": [],
   "source": [
    "# Path to Data Folder\n",
    "path = r'C:\\Users\\justi\\OneDrive\\Desktop\\Class work\\Achievement 4 Python (Instacart Basket Analysis)\\02 Data'"
   ]
  },
  {
   "cell_type": "code",
   "execution_count": 3,
   "id": "fb14723b",
   "metadata": {},
   "outputs": [],
   "source": [
    "# Import Dataframe\n",
    "\n",
    "df = pd.read_pickle(os.path.join(path, 'prepared data', 'data merged.pkl'))"
   ]
  },
  {
   "cell_type": "markdown",
   "id": "b90c73ee",
   "metadata": {},
   "source": [
    "# 2. Data Cleaning and Wrangling"
   ]
  },
  {
   "cell_type": "code",
   "execution_count": 4,
   "id": "5b7d051d",
   "metadata": {},
   "outputs": [
    {
     "data": {
      "text/html": [
       "<div>\n",
       "<style scoped>\n",
       "    .dataframe tbody tr th:only-of-type {\n",
       "        vertical-align: middle;\n",
       "    }\n",
       "\n",
       "    .dataframe tbody tr th {\n",
       "        vertical-align: top;\n",
       "    }\n",
       "\n",
       "    .dataframe thead th {\n",
       "        text-align: right;\n",
       "    }\n",
       "</style>\n",
       "<table border=\"1\" class=\"dataframe\">\n",
       "  <thead>\n",
       "    <tr style=\"text-align: right;\">\n",
       "      <th></th>\n",
       "      <th>user_id</th>\n",
       "      <th>First Name</th>\n",
       "      <th>Last Name</th>\n",
       "      <th>Gender</th>\n",
       "      <th>STATE</th>\n",
       "      <th>Age</th>\n",
       "      <th>date_joined</th>\n",
       "      <th>n_dependants</th>\n",
       "      <th>income</th>\n",
       "      <th>Unnamed: 0_x</th>\n",
       "      <th>...</th>\n",
       "      <th>price_range_loc</th>\n",
       "      <th>busiest day</th>\n",
       "      <th>busiest days</th>\n",
       "      <th>Busiest hours</th>\n",
       "      <th>max_order</th>\n",
       "      <th>loyalty_flag</th>\n",
       "      <th>avg_prices</th>\n",
       "      <th>spending_flag</th>\n",
       "      <th>order_frequency</th>\n",
       "      <th>frequency_flag</th>\n",
       "    </tr>\n",
       "  </thead>\n",
       "  <tbody>\n",
       "    <tr>\n",
       "      <th>0</th>\n",
       "      <td>26711</td>\n",
       "      <td>Deborah</td>\n",
       "      <td>Esquivel</td>\n",
       "      <td>Female</td>\n",
       "      <td>Missouri</td>\n",
       "      <td>48</td>\n",
       "      <td>1/1/2017</td>\n",
       "      <td>3</td>\n",
       "      <td>165665</td>\n",
       "      <td>443895</td>\n",
       "      <td>...</td>\n",
       "      <td>Mid range product</td>\n",
       "      <td>Regularly Busy Day</td>\n",
       "      <td>Busiest Days</td>\n",
       "      <td>Average orders</td>\n",
       "      <td>8</td>\n",
       "      <td>New Customer</td>\n",
       "      <td>7.988889</td>\n",
       "      <td>Low Spender</td>\n",
       "      <td>19.0</td>\n",
       "      <td>Regular Customer</td>\n",
       "    </tr>\n",
       "    <tr>\n",
       "      <th>1</th>\n",
       "      <td>26711</td>\n",
       "      <td>Deborah</td>\n",
       "      <td>Esquivel</td>\n",
       "      <td>Female</td>\n",
       "      <td>Missouri</td>\n",
       "      <td>48</td>\n",
       "      <td>1/1/2017</td>\n",
       "      <td>3</td>\n",
       "      <td>165665</td>\n",
       "      <td>443897</td>\n",
       "      <td>...</td>\n",
       "      <td>Mid range product</td>\n",
       "      <td>Regularly Busy Day</td>\n",
       "      <td>Regularly Busy</td>\n",
       "      <td>Most Orders</td>\n",
       "      <td>8</td>\n",
       "      <td>New Customer</td>\n",
       "      <td>7.988889</td>\n",
       "      <td>Low Spender</td>\n",
       "      <td>19.0</td>\n",
       "      <td>Regular Customer</td>\n",
       "    </tr>\n",
       "    <tr>\n",
       "      <th>2</th>\n",
       "      <td>26711</td>\n",
       "      <td>Deborah</td>\n",
       "      <td>Esquivel</td>\n",
       "      <td>Female</td>\n",
       "      <td>Missouri</td>\n",
       "      <td>48</td>\n",
       "      <td>1/1/2017</td>\n",
       "      <td>3</td>\n",
       "      <td>165665</td>\n",
       "      <td>443898</td>\n",
       "      <td>...</td>\n",
       "      <td>Mid range product</td>\n",
       "      <td>Regularly Busy Day</td>\n",
       "      <td>Busiest Days</td>\n",
       "      <td>Most Orders</td>\n",
       "      <td>8</td>\n",
       "      <td>New Customer</td>\n",
       "      <td>7.988889</td>\n",
       "      <td>Low Spender</td>\n",
       "      <td>19.0</td>\n",
       "      <td>Regular Customer</td>\n",
       "    </tr>\n",
       "    <tr>\n",
       "      <th>3</th>\n",
       "      <td>26711</td>\n",
       "      <td>Deborah</td>\n",
       "      <td>Esquivel</td>\n",
       "      <td>Female</td>\n",
       "      <td>Missouri</td>\n",
       "      <td>48</td>\n",
       "      <td>1/1/2017</td>\n",
       "      <td>3</td>\n",
       "      <td>165665</td>\n",
       "      <td>443892</td>\n",
       "      <td>...</td>\n",
       "      <td>Mid range product</td>\n",
       "      <td>Regularly Busy Day</td>\n",
       "      <td>Regularly Busy</td>\n",
       "      <td>Average orders</td>\n",
       "      <td>8</td>\n",
       "      <td>New Customer</td>\n",
       "      <td>7.988889</td>\n",
       "      <td>Low Spender</td>\n",
       "      <td>19.0</td>\n",
       "      <td>Regular Customer</td>\n",
       "    </tr>\n",
       "    <tr>\n",
       "      <th>4</th>\n",
       "      <td>26711</td>\n",
       "      <td>Deborah</td>\n",
       "      <td>Esquivel</td>\n",
       "      <td>Female</td>\n",
       "      <td>Missouri</td>\n",
       "      <td>48</td>\n",
       "      <td>1/1/2017</td>\n",
       "      <td>3</td>\n",
       "      <td>165665</td>\n",
       "      <td>443893</td>\n",
       "      <td>...</td>\n",
       "      <td>Mid range product</td>\n",
       "      <td>Regularly Busy Day</td>\n",
       "      <td>Slowest Days</td>\n",
       "      <td>Most Orders</td>\n",
       "      <td>8</td>\n",
       "      <td>New Customer</td>\n",
       "      <td>7.988889</td>\n",
       "      <td>Low Spender</td>\n",
       "      <td>19.0</td>\n",
       "      <td>Regular Customer</td>\n",
       "    </tr>\n",
       "  </tbody>\n",
       "</table>\n",
       "<p>5 rows × 34 columns</p>\n",
       "</div>"
      ],
      "text/plain": [
       "   user_id First Name Last Name  Gender     STATE  Age date_joined  \\\n",
       "0    26711    Deborah  Esquivel  Female  Missouri   48    1/1/2017   \n",
       "1    26711    Deborah  Esquivel  Female  Missouri   48    1/1/2017   \n",
       "2    26711    Deborah  Esquivel  Female  Missouri   48    1/1/2017   \n",
       "3    26711    Deborah  Esquivel  Female  Missouri   48    1/1/2017   \n",
       "4    26711    Deborah  Esquivel  Female  Missouri   48    1/1/2017   \n",
       "\n",
       "   n_dependants  income  Unnamed: 0_x  ...    price_range_loc  \\\n",
       "0             3  165665        443895  ...  Mid range product   \n",
       "1             3  165665        443897  ...  Mid range product   \n",
       "2             3  165665        443898  ...  Mid range product   \n",
       "3             3  165665        443892  ...  Mid range product   \n",
       "4             3  165665        443893  ...  Mid range product   \n",
       "\n",
       "          busiest day    busiest days   Busiest hours  max_order  \\\n",
       "0  Regularly Busy Day    Busiest Days  Average orders          8   \n",
       "1  Regularly Busy Day  Regularly Busy     Most Orders          8   \n",
       "2  Regularly Busy Day    Busiest Days     Most Orders          8   \n",
       "3  Regularly Busy Day  Regularly Busy  Average orders          8   \n",
       "4  Regularly Busy Day    Slowest Days     Most Orders          8   \n",
       "\n",
       "   loyalty_flag  avg_prices  spending_flag order_frequency    frequency_flag  \n",
       "0  New Customer    7.988889    Low Spender            19.0  Regular Customer  \n",
       "1  New Customer    7.988889    Low Spender            19.0  Regular Customer  \n",
       "2  New Customer    7.988889    Low Spender            19.0  Regular Customer  \n",
       "3  New Customer    7.988889    Low Spender            19.0  Regular Customer  \n",
       "4  New Customer    7.988889    Low Spender            19.0  Regular Customer  \n",
       "\n",
       "[5 rows x 34 columns]"
      ]
     },
     "execution_count": 4,
     "metadata": {},
     "output_type": "execute_result"
    }
   ],
   "source": [
    "# Check\n",
    "\n",
    "df.head()"
   ]
  },
  {
   "cell_type": "code",
   "execution_count": 5,
   "id": "97b63617",
   "metadata": {},
   "outputs": [],
   "source": [
    "# Removing PII data: first name and last name columns from dataset\n",
    "\n",
    "df = df.drop(['First Name', 'Last Name'], axis =1)"
   ]
  },
  {
   "cell_type": "code",
   "execution_count": 6,
   "id": "9662a0a1",
   "metadata": {},
   "outputs": [
    {
     "data": {
      "text/html": [
       "<div>\n",
       "<style scoped>\n",
       "    .dataframe tbody tr th:only-of-type {\n",
       "        vertical-align: middle;\n",
       "    }\n",
       "\n",
       "    .dataframe tbody tr th {\n",
       "        vertical-align: top;\n",
       "    }\n",
       "\n",
       "    .dataframe thead th {\n",
       "        text-align: right;\n",
       "    }\n",
       "</style>\n",
       "<table border=\"1\" class=\"dataframe\">\n",
       "  <thead>\n",
       "    <tr style=\"text-align: right;\">\n",
       "      <th></th>\n",
       "      <th>user_id</th>\n",
       "      <th>Gender</th>\n",
       "      <th>STATE</th>\n",
       "      <th>Age</th>\n",
       "      <th>date_joined</th>\n",
       "      <th>n_dependants</th>\n",
       "      <th>income</th>\n",
       "      <th>Unnamed: 0_x</th>\n",
       "      <th>order_id</th>\n",
       "      <th>order_number</th>\n",
       "      <th>...</th>\n",
       "      <th>price_range_loc</th>\n",
       "      <th>busiest day</th>\n",
       "      <th>busiest days</th>\n",
       "      <th>Busiest hours</th>\n",
       "      <th>max_order</th>\n",
       "      <th>loyalty_flag</th>\n",
       "      <th>avg_prices</th>\n",
       "      <th>spending_flag</th>\n",
       "      <th>order_frequency</th>\n",
       "      <th>frequency_flag</th>\n",
       "    </tr>\n",
       "  </thead>\n",
       "  <tbody>\n",
       "    <tr>\n",
       "      <th>0</th>\n",
       "      <td>26711</td>\n",
       "      <td>Female</td>\n",
       "      <td>Missouri</td>\n",
       "      <td>48</td>\n",
       "      <td>1/1/2017</td>\n",
       "      <td>3</td>\n",
       "      <td>165665</td>\n",
       "      <td>443895</td>\n",
       "      <td>2543867</td>\n",
       "      <td>5</td>\n",
       "      <td>...</td>\n",
       "      <td>Mid range product</td>\n",
       "      <td>Regularly Busy Day</td>\n",
       "      <td>Busiest Days</td>\n",
       "      <td>Average orders</td>\n",
       "      <td>8</td>\n",
       "      <td>New Customer</td>\n",
       "      <td>7.988889</td>\n",
       "      <td>Low Spender</td>\n",
       "      <td>19.0</td>\n",
       "      <td>Regular Customer</td>\n",
       "    </tr>\n",
       "    <tr>\n",
       "      <th>1</th>\n",
       "      <td>26711</td>\n",
       "      <td>Female</td>\n",
       "      <td>Missouri</td>\n",
       "      <td>48</td>\n",
       "      <td>1/1/2017</td>\n",
       "      <td>3</td>\n",
       "      <td>165665</td>\n",
       "      <td>443897</td>\n",
       "      <td>1285508</td>\n",
       "      <td>7</td>\n",
       "      <td>...</td>\n",
       "      <td>Mid range product</td>\n",
       "      <td>Regularly Busy Day</td>\n",
       "      <td>Regularly Busy</td>\n",
       "      <td>Most Orders</td>\n",
       "      <td>8</td>\n",
       "      <td>New Customer</td>\n",
       "      <td>7.988889</td>\n",
       "      <td>Low Spender</td>\n",
       "      <td>19.0</td>\n",
       "      <td>Regular Customer</td>\n",
       "    </tr>\n",
       "    <tr>\n",
       "      <th>2</th>\n",
       "      <td>26711</td>\n",
       "      <td>Female</td>\n",
       "      <td>Missouri</td>\n",
       "      <td>48</td>\n",
       "      <td>1/1/2017</td>\n",
       "      <td>3</td>\n",
       "      <td>165665</td>\n",
       "      <td>443898</td>\n",
       "      <td>2578584</td>\n",
       "      <td>8</td>\n",
       "      <td>...</td>\n",
       "      <td>Mid range product</td>\n",
       "      <td>Regularly Busy Day</td>\n",
       "      <td>Busiest Days</td>\n",
       "      <td>Most Orders</td>\n",
       "      <td>8</td>\n",
       "      <td>New Customer</td>\n",
       "      <td>7.988889</td>\n",
       "      <td>Low Spender</td>\n",
       "      <td>19.0</td>\n",
       "      <td>Regular Customer</td>\n",
       "    </tr>\n",
       "    <tr>\n",
       "      <th>3</th>\n",
       "      <td>26711</td>\n",
       "      <td>Female</td>\n",
       "      <td>Missouri</td>\n",
       "      <td>48</td>\n",
       "      <td>1/1/2017</td>\n",
       "      <td>3</td>\n",
       "      <td>165665</td>\n",
       "      <td>443892</td>\n",
       "      <td>423547</td>\n",
       "      <td>2</td>\n",
       "      <td>...</td>\n",
       "      <td>Mid range product</td>\n",
       "      <td>Regularly Busy Day</td>\n",
       "      <td>Regularly Busy</td>\n",
       "      <td>Average orders</td>\n",
       "      <td>8</td>\n",
       "      <td>New Customer</td>\n",
       "      <td>7.988889</td>\n",
       "      <td>Low Spender</td>\n",
       "      <td>19.0</td>\n",
       "      <td>Regular Customer</td>\n",
       "    </tr>\n",
       "    <tr>\n",
       "      <th>4</th>\n",
       "      <td>26711</td>\n",
       "      <td>Female</td>\n",
       "      <td>Missouri</td>\n",
       "      <td>48</td>\n",
       "      <td>1/1/2017</td>\n",
       "      <td>3</td>\n",
       "      <td>165665</td>\n",
       "      <td>443893</td>\n",
       "      <td>2524893</td>\n",
       "      <td>3</td>\n",
       "      <td>...</td>\n",
       "      <td>Mid range product</td>\n",
       "      <td>Regularly Busy Day</td>\n",
       "      <td>Slowest Days</td>\n",
       "      <td>Most Orders</td>\n",
       "      <td>8</td>\n",
       "      <td>New Customer</td>\n",
       "      <td>7.988889</td>\n",
       "      <td>Low Spender</td>\n",
       "      <td>19.0</td>\n",
       "      <td>Regular Customer</td>\n",
       "    </tr>\n",
       "  </tbody>\n",
       "</table>\n",
       "<p>5 rows × 32 columns</p>\n",
       "</div>"
      ],
      "text/plain": [
       "   user_id  Gender     STATE  Age date_joined  n_dependants  income  \\\n",
       "0    26711  Female  Missouri   48    1/1/2017             3  165665   \n",
       "1    26711  Female  Missouri   48    1/1/2017             3  165665   \n",
       "2    26711  Female  Missouri   48    1/1/2017             3  165665   \n",
       "3    26711  Female  Missouri   48    1/1/2017             3  165665   \n",
       "4    26711  Female  Missouri   48    1/1/2017             3  165665   \n",
       "\n",
       "   Unnamed: 0_x  order_id  order_number  ...    price_range_loc  \\\n",
       "0        443895   2543867             5  ...  Mid range product   \n",
       "1        443897   1285508             7  ...  Mid range product   \n",
       "2        443898   2578584             8  ...  Mid range product   \n",
       "3        443892    423547             2  ...  Mid range product   \n",
       "4        443893   2524893             3  ...  Mid range product   \n",
       "\n",
       "          busiest day    busiest days   Busiest hours  max_order  \\\n",
       "0  Regularly Busy Day    Busiest Days  Average orders          8   \n",
       "1  Regularly Busy Day  Regularly Busy     Most Orders          8   \n",
       "2  Regularly Busy Day    Busiest Days     Most Orders          8   \n",
       "3  Regularly Busy Day  Regularly Busy  Average orders          8   \n",
       "4  Regularly Busy Day    Slowest Days     Most Orders          8   \n",
       "\n",
       "   loyalty_flag avg_prices  spending_flag order_frequency    frequency_flag  \n",
       "0  New Customer   7.988889    Low Spender            19.0  Regular Customer  \n",
       "1  New Customer   7.988889    Low Spender            19.0  Regular Customer  \n",
       "2  New Customer   7.988889    Low Spender            19.0  Regular Customer  \n",
       "3  New Customer   7.988889    Low Spender            19.0  Regular Customer  \n",
       "4  New Customer   7.988889    Low Spender            19.0  Regular Customer  \n",
       "\n",
       "[5 rows x 32 columns]"
      ]
     },
     "execution_count": 6,
     "metadata": {},
     "output_type": "execute_result"
    }
   ],
   "source": [
    "# Check for dropped columns\n",
    "df.head(5)"
   ]
  },
  {
   "cell_type": "markdown",
   "id": "192db5c0",
   "metadata": {},
   "source": [
    "# 3. Creating New columns and Flags"
   ]
  },
  {
   "cell_type": "code",
   "execution_count": 7,
   "id": "46fa9825",
   "metadata": {},
   "outputs": [],
   "source": [
    "# Creating a region column\n",
    "\n",
    "Region = []\n",
    "\n",
    "for value in df['STATE']:\n",
    "    if value in ['Maine', 'New Hampshire', 'Vermont', 'Massachusetts', 'Rhode Island', 'Connecticut', 'New York', 'Pennsylvania', 'New Jersey']: \n",
    "        Region.append ('Region 1')\n",
    "    elif value in ['Wisconsin', 'Michigan', 'Illinois', 'Indiana', 'Ohio', 'North Dakota', 'South Dakota', 'Nebraska', 'Kansas', 'Minnesota', 'Iowa', 'Missouri']:\n",
    "        Region.append ('Region 2')\n",
    "    elif value in ['Deleware', 'Maryland', 'Virginia', 'District of Columbia', 'West Virginia', 'North Carolina', 'South Carolina', 'Georgia', 'Florida', 'Kentucky', 'Tennessee', 'Mississippi', 'Alabama', 'Oklahoma', 'Texas', 'Arkansas', 'Louisiana']:\n",
    "        Region.append ('Region 3')\n",
    "    else:\n",
    "        Region.append ( 'Region 4')\n",
    "    \n",
    "\n"
   ]
  },
  {
   "cell_type": "code",
   "execution_count": 8,
   "id": "5f53ca91",
   "metadata": {},
   "outputs": [],
   "source": [
    "df['Region'] = Region"
   ]
  },
  {
   "cell_type": "code",
   "execution_count": 9,
   "id": "8c7c986d",
   "metadata": {},
   "outputs": [
    {
     "data": {
      "text/plain": [
       "Region 3    9600009\n",
       "Region 4    8430783\n",
       "Region 2    7176924\n",
       "Region 1    5422025\n",
       "Name: Region, dtype: int64"
      ]
     },
     "execution_count": 9,
     "metadata": {},
     "output_type": "execute_result"
    }
   ],
   "source": [
    "# Check\n",
    "df['Region'].value_counts(dropna = False)"
   ]
  },
  {
   "cell_type": "code",
   "execution_count": 10,
   "id": "04cf5ea8",
   "metadata": {},
   "outputs": [],
   "source": [
    "# Creating a crosstab for region and spending flag columns\n",
    "Region_Spending = pd.crosstab(df['Region'], df['spending_flag'], dropna = False)"
   ]
  },
  {
   "cell_type": "code",
   "execution_count": 11,
   "id": "00bc261b",
   "metadata": {},
   "outputs": [
    {
     "data": {
      "text/html": [
       "<div>\n",
       "<style scoped>\n",
       "    .dataframe tbody tr th:only-of-type {\n",
       "        vertical-align: middle;\n",
       "    }\n",
       "\n",
       "    .dataframe tbody tr th {\n",
       "        vertical-align: top;\n",
       "    }\n",
       "\n",
       "    .dataframe thead th {\n",
       "        text-align: right;\n",
       "    }\n",
       "</style>\n",
       "<table border=\"1\" class=\"dataframe\">\n",
       "  <thead>\n",
       "    <tr style=\"text-align: right;\">\n",
       "      <th>spending_flag</th>\n",
       "      <th>High Spender</th>\n",
       "      <th>Low Spender</th>\n",
       "    </tr>\n",
       "    <tr>\n",
       "      <th>Region</th>\n",
       "      <th></th>\n",
       "      <th></th>\n",
       "    </tr>\n",
       "  </thead>\n",
       "  <tbody>\n",
       "    <tr>\n",
       "      <th>Region 1</th>\n",
       "      <td>101420</td>\n",
       "      <td>5320605</td>\n",
       "    </tr>\n",
       "    <tr>\n",
       "      <th>Region 2</th>\n",
       "      <td>149817</td>\n",
       "      <td>7027107</td>\n",
       "    </tr>\n",
       "    <tr>\n",
       "      <th>Region 3</th>\n",
       "      <td>180566</td>\n",
       "      <td>9419443</td>\n",
       "    </tr>\n",
       "    <tr>\n",
       "      <th>Region 4</th>\n",
       "      <td>163760</td>\n",
       "      <td>8267023</td>\n",
       "    </tr>\n",
       "  </tbody>\n",
       "</table>\n",
       "</div>"
      ],
      "text/plain": [
       "spending_flag  High Spender  Low Spender\n",
       "Region                                  \n",
       "Region 1             101420      5320605\n",
       "Region 2             149817      7027107\n",
       "Region 3             180566      9419443\n",
       "Region 4             163760      8267023"
      ]
     },
     "execution_count": 11,
     "metadata": {},
     "output_type": "execute_result"
    }
   ],
   "source": [
    "#Check\n",
    "Region_Spending"
   ]
  },
  {
   "cell_type": "code",
   "execution_count": 12,
   "id": "92a8bf43",
   "metadata": {},
   "outputs": [],
   "source": [
    "# Copying to clipboard\n",
    "Region_Spending.to_clipboard()"
   ]
  },
  {
   "cell_type": "markdown",
   "id": "289492ba",
   "metadata": {},
   "source": [
    "# Region 3 & 4 have the most 'High spenders' and 'Low spenders', while Regions 1 & 2 have the least 'High Spenders and 'Low spenders'"
   ]
  },
  {
   "cell_type": "markdown",
   "id": "21068363",
   "metadata": {},
   "source": [
    "# 4. Creating High activity customers subset and exporting"
   ]
  },
  {
   "cell_type": "code",
   "execution_count": 13,
   "id": "2c04e634",
   "metadata": {},
   "outputs": [],
   "source": [
    "# Customer activity flag\n",
    "df.loc[df['max_order'] >= 5, 'customer_activity'] = 'High'"
   ]
  },
  {
   "cell_type": "code",
   "execution_count": 14,
   "id": "9548abd2",
   "metadata": {},
   "outputs": [],
   "source": [
    "df.loc[df['max_order'] <5, 'customer_activity'] = 'Low'"
   ]
  },
  {
   "cell_type": "code",
   "execution_count": 15,
   "id": "385e9ce4",
   "metadata": {},
   "outputs": [
    {
     "data": {
      "text/plain": [
       "High    29270938\n",
       "Low      1358803\n",
       "Name: customer_activity, dtype: int64"
      ]
     },
     "execution_count": 15,
     "metadata": {},
     "output_type": "execute_result"
    }
   ],
   "source": [
    "# Check\n",
    "df['customer_activity'].value_counts(dropna = False)"
   ]
  },
  {
   "cell_type": "code",
   "execution_count": 16,
   "id": "c2bbe346",
   "metadata": {},
   "outputs": [],
   "source": [
    "# High activity Subset\n",
    "\n",
    "high_activity_customers = df[df['customer_activity'] == 'High']"
   ]
  },
  {
   "cell_type": "code",
   "execution_count": 17,
   "id": "f88dcf01",
   "metadata": {},
   "outputs": [
    {
     "data": {
      "text/html": [
       "<div>\n",
       "<style scoped>\n",
       "    .dataframe tbody tr th:only-of-type {\n",
       "        vertical-align: middle;\n",
       "    }\n",
       "\n",
       "    .dataframe tbody tr th {\n",
       "        vertical-align: top;\n",
       "    }\n",
       "\n",
       "    .dataframe thead th {\n",
       "        text-align: right;\n",
       "    }\n",
       "</style>\n",
       "<table border=\"1\" class=\"dataframe\">\n",
       "  <thead>\n",
       "    <tr style=\"text-align: right;\">\n",
       "      <th></th>\n",
       "      <th>user_id</th>\n",
       "      <th>Gender</th>\n",
       "      <th>STATE</th>\n",
       "      <th>Age</th>\n",
       "      <th>date_joined</th>\n",
       "      <th>n_dependants</th>\n",
       "      <th>income</th>\n",
       "      <th>Unnamed: 0_x</th>\n",
       "      <th>order_id</th>\n",
       "      <th>order_number</th>\n",
       "      <th>...</th>\n",
       "      <th>busiest days</th>\n",
       "      <th>Busiest hours</th>\n",
       "      <th>max_order</th>\n",
       "      <th>loyalty_flag</th>\n",
       "      <th>avg_prices</th>\n",
       "      <th>spending_flag</th>\n",
       "      <th>order_frequency</th>\n",
       "      <th>frequency_flag</th>\n",
       "      <th>Region</th>\n",
       "      <th>customer_activity</th>\n",
       "    </tr>\n",
       "  </thead>\n",
       "  <tbody>\n",
       "    <tr>\n",
       "      <th>0</th>\n",
       "      <td>26711</td>\n",
       "      <td>Female</td>\n",
       "      <td>Missouri</td>\n",
       "      <td>48</td>\n",
       "      <td>1/1/2017</td>\n",
       "      <td>3</td>\n",
       "      <td>165665</td>\n",
       "      <td>443895</td>\n",
       "      <td>2543867</td>\n",
       "      <td>5</td>\n",
       "      <td>...</td>\n",
       "      <td>Busiest Days</td>\n",
       "      <td>Average orders</td>\n",
       "      <td>8</td>\n",
       "      <td>New Customer</td>\n",
       "      <td>7.988889</td>\n",
       "      <td>Low Spender</td>\n",
       "      <td>19.0</td>\n",
       "      <td>Regular Customer</td>\n",
       "      <td>Region 2</td>\n",
       "      <td>High</td>\n",
       "    </tr>\n",
       "    <tr>\n",
       "      <th>1</th>\n",
       "      <td>26711</td>\n",
       "      <td>Female</td>\n",
       "      <td>Missouri</td>\n",
       "      <td>48</td>\n",
       "      <td>1/1/2017</td>\n",
       "      <td>3</td>\n",
       "      <td>165665</td>\n",
       "      <td>443897</td>\n",
       "      <td>1285508</td>\n",
       "      <td>7</td>\n",
       "      <td>...</td>\n",
       "      <td>Regularly Busy</td>\n",
       "      <td>Most Orders</td>\n",
       "      <td>8</td>\n",
       "      <td>New Customer</td>\n",
       "      <td>7.988889</td>\n",
       "      <td>Low Spender</td>\n",
       "      <td>19.0</td>\n",
       "      <td>Regular Customer</td>\n",
       "      <td>Region 2</td>\n",
       "      <td>High</td>\n",
       "    </tr>\n",
       "    <tr>\n",
       "      <th>2</th>\n",
       "      <td>26711</td>\n",
       "      <td>Female</td>\n",
       "      <td>Missouri</td>\n",
       "      <td>48</td>\n",
       "      <td>1/1/2017</td>\n",
       "      <td>3</td>\n",
       "      <td>165665</td>\n",
       "      <td>443898</td>\n",
       "      <td>2578584</td>\n",
       "      <td>8</td>\n",
       "      <td>...</td>\n",
       "      <td>Busiest Days</td>\n",
       "      <td>Most Orders</td>\n",
       "      <td>8</td>\n",
       "      <td>New Customer</td>\n",
       "      <td>7.988889</td>\n",
       "      <td>Low Spender</td>\n",
       "      <td>19.0</td>\n",
       "      <td>Regular Customer</td>\n",
       "      <td>Region 2</td>\n",
       "      <td>High</td>\n",
       "    </tr>\n",
       "    <tr>\n",
       "      <th>3</th>\n",
       "      <td>26711</td>\n",
       "      <td>Female</td>\n",
       "      <td>Missouri</td>\n",
       "      <td>48</td>\n",
       "      <td>1/1/2017</td>\n",
       "      <td>3</td>\n",
       "      <td>165665</td>\n",
       "      <td>443892</td>\n",
       "      <td>423547</td>\n",
       "      <td>2</td>\n",
       "      <td>...</td>\n",
       "      <td>Regularly Busy</td>\n",
       "      <td>Average orders</td>\n",
       "      <td>8</td>\n",
       "      <td>New Customer</td>\n",
       "      <td>7.988889</td>\n",
       "      <td>Low Spender</td>\n",
       "      <td>19.0</td>\n",
       "      <td>Regular Customer</td>\n",
       "      <td>Region 2</td>\n",
       "      <td>High</td>\n",
       "    </tr>\n",
       "    <tr>\n",
       "      <th>4</th>\n",
       "      <td>26711</td>\n",
       "      <td>Female</td>\n",
       "      <td>Missouri</td>\n",
       "      <td>48</td>\n",
       "      <td>1/1/2017</td>\n",
       "      <td>3</td>\n",
       "      <td>165665</td>\n",
       "      <td>443893</td>\n",
       "      <td>2524893</td>\n",
       "      <td>3</td>\n",
       "      <td>...</td>\n",
       "      <td>Slowest Days</td>\n",
       "      <td>Most Orders</td>\n",
       "      <td>8</td>\n",
       "      <td>New Customer</td>\n",
       "      <td>7.988889</td>\n",
       "      <td>Low Spender</td>\n",
       "      <td>19.0</td>\n",
       "      <td>Regular Customer</td>\n",
       "      <td>Region 2</td>\n",
       "      <td>High</td>\n",
       "    </tr>\n",
       "  </tbody>\n",
       "</table>\n",
       "<p>5 rows × 34 columns</p>\n",
       "</div>"
      ],
      "text/plain": [
       "   user_id  Gender     STATE  Age date_joined  n_dependants  income  \\\n",
       "0    26711  Female  Missouri   48    1/1/2017             3  165665   \n",
       "1    26711  Female  Missouri   48    1/1/2017             3  165665   \n",
       "2    26711  Female  Missouri   48    1/1/2017             3  165665   \n",
       "3    26711  Female  Missouri   48    1/1/2017             3  165665   \n",
       "4    26711  Female  Missouri   48    1/1/2017             3  165665   \n",
       "\n",
       "   Unnamed: 0_x  order_id  order_number  ...    busiest days   Busiest hours  \\\n",
       "0        443895   2543867             5  ...    Busiest Days  Average orders   \n",
       "1        443897   1285508             7  ...  Regularly Busy     Most Orders   \n",
       "2        443898   2578584             8  ...    Busiest Days     Most Orders   \n",
       "3        443892    423547             2  ...  Regularly Busy  Average orders   \n",
       "4        443893   2524893             3  ...    Slowest Days     Most Orders   \n",
       "\n",
       "   max_order  loyalty_flag  avg_prices  spending_flag order_frequency  \\\n",
       "0          8  New Customer    7.988889    Low Spender            19.0   \n",
       "1          8  New Customer    7.988889    Low Spender            19.0   \n",
       "2          8  New Customer    7.988889    Low Spender            19.0   \n",
       "3          8  New Customer    7.988889    Low Spender            19.0   \n",
       "4          8  New Customer    7.988889    Low Spender            19.0   \n",
       "\n",
       "     frequency_flag    Region  customer_activity  \n",
       "0  Regular Customer  Region 2               High  \n",
       "1  Regular Customer  Region 2               High  \n",
       "2  Regular Customer  Region 2               High  \n",
       "3  Regular Customer  Region 2               High  \n",
       "4  Regular Customer  Region 2               High  \n",
       "\n",
       "[5 rows x 34 columns]"
      ]
     },
     "execution_count": 17,
     "metadata": {},
     "output_type": "execute_result"
    }
   ],
   "source": [
    "# Check\n",
    "high_activity_customers.head()"
   ]
  },
  {
   "cell_type": "code",
   "execution_count": 18,
   "id": "f236dd5a",
   "metadata": {},
   "outputs": [],
   "source": [
    "# Export Subset\n",
    "high_activity_customers.to_pickle(os.path.join(path, 'prepared data', 'high_activity_customers.pkl'))"
   ]
  },
  {
   "cell_type": "markdown",
   "id": "41c2cb89",
   "metadata": {},
   "source": [
    "# 5. Creating Customer Profiles"
   ]
  },
  {
   "cell_type": "code",
   "execution_count": 19,
   "id": "20dd6d81",
   "metadata": {},
   "outputs": [
    {
     "data": {
      "text/plain": [
       "48    500821\n",
       "56    498707\n",
       "79    498415\n",
       "31    498374\n",
       "64    498028\n",
       "       ...  \n",
       "60    458818\n",
       "65    452920\n",
       "66    451409\n",
       "41    447823\n",
       "25    443622\n",
       "Name: Age, Length: 64, dtype: int64"
      ]
     },
     "execution_count": 19,
     "metadata": {},
     "output_type": "execute_result"
    }
   ],
   "source": [
    "df['Age'].value_counts(dropna = False)"
   ]
  },
  {
   "cell_type": "code",
   "execution_count": 20,
   "id": "5b62f456",
   "metadata": {},
   "outputs": [],
   "source": [
    "# profiling for age, creating age_flag column\n",
    "df.loc[df['Age'] >= 65,'age_flag'] = 'Senior'\n",
    "df.loc[(df['Age'] >= 45) & (df['Age'] < 65), 'age_flag'] = 'Middle Aged'\n",
    "df.loc[(df['Age'] >= 26) & (df['Age'] < 45), 'age_flag'] = 'Adult'\n",
    "df.loc[df['Age'] <26, 'age_flag'] = 'Young Adult'\n"
   ]
  },
  {
   "cell_type": "code",
   "execution_count": 21,
   "id": "3ea26861",
   "metadata": {},
   "outputs": [
    {
     "data": {
      "text/plain": [
       "Middle Aged    9600933\n",
       "Adult          9105744\n",
       "Senior         8097571\n",
       "Young Adult    3825493\n",
       "Name: age_flag, dtype: int64"
      ]
     },
     "execution_count": 21,
     "metadata": {},
     "output_type": "execute_result"
    }
   ],
   "source": [
    "# Check\n",
    "df['age_flag'].value_counts(dropna = False)"
   ]
  },
  {
   "cell_type": "code",
   "execution_count": 22,
   "id": "703ded13",
   "metadata": {},
   "outputs": [],
   "source": [
    "# Profiling by income, creating income_flag column\n",
    "df.loc[df['income'] >= 175000, 'income_flag'] = 'High Income'\n",
    "df.loc[(df['income'] < 175000) & (df['income'] >= 50000), 'income_flag'] = 'Middle Income'\n",
    "df.loc[df['income'] < 50000, 'income_flag'] = 'Low Income'"
   ]
  },
  {
   "cell_type": "code",
   "execution_count": 23,
   "id": "85eef4f8",
   "metadata": {},
   "outputs": [
    {
     "data": {
      "text/plain": [
       "Middle Income    26953141\n",
       "Low Income        3387558\n",
       "High Income        289042\n",
       "Name: income_flag, dtype: int64"
      ]
     },
     "execution_count": 23,
     "metadata": {},
     "output_type": "execute_result"
    }
   ],
   "source": [
    "# Check\n",
    "df['income_flag'].value_counts(dropna = False)"
   ]
  },
  {
   "cell_type": "code",
   "execution_count": 24,
   "id": "f4e9dbad",
   "metadata": {},
   "outputs": [
    {
     "data": {
      "text/plain": [
       "3    7680036\n",
       "2    7656940\n",
       "0    7649698\n",
       "1    7643067\n",
       "Name: n_dependants, dtype: int64"
      ]
     },
     "execution_count": 24,
     "metadata": {},
     "output_type": "execute_result"
    }
   ],
   "source": [
    "df['n_dependants'].value_counts(dropna = False)"
   ]
  },
  {
   "cell_type": "code",
   "execution_count": 25,
   "id": "3a3afdec",
   "metadata": {},
   "outputs": [],
   "source": [
    "# Profiling by dependants, creating family_flag column\n",
    "df.loc[df['n_dependants'] >0, 'family_flag'] = 'Family'\n",
    "df.loc[df['n_dependants'] == 0, 'family_flag'] = 'Single'"
   ]
  },
  {
   "cell_type": "code",
   "execution_count": 26,
   "id": "f7dd9f6a",
   "metadata": {},
   "outputs": [
    {
     "data": {
      "text/plain": [
       "Family    22980043\n",
       "Single     7649698\n",
       "Name: family_flag, dtype: int64"
      ]
     },
     "execution_count": 26,
     "metadata": {},
     "output_type": "execute_result"
    }
   ],
   "source": [
    "#Check\n",
    "df['family_flag'].value_counts(dropna = False)"
   ]
  },
  {
   "cell_type": "markdown",
   "id": "5cdb9834",
   "metadata": {},
   "source": [
    "# 6. Aggregating Customer Profiles"
   ]
  },
  {
   "cell_type": "code",
   "execution_count": 27,
   "id": "3fbaa5e5",
   "metadata": {},
   "outputs": [],
   "source": [
    "# Aggreagte by age\n",
    "age_agg = df.groupby('age_flag').agg({'days_since_prior_order': ['min', 'max', 'mean'], 'prices': ['min', 'max', 'mean']})"
   ]
  },
  {
   "cell_type": "code",
   "execution_count": 28,
   "id": "537b4b5c",
   "metadata": {},
   "outputs": [
    {
     "data": {
      "text/html": [
       "<div>\n",
       "<style scoped>\n",
       "    .dataframe tbody tr th:only-of-type {\n",
       "        vertical-align: middle;\n",
       "    }\n",
       "\n",
       "    .dataframe tbody tr th {\n",
       "        vertical-align: top;\n",
       "    }\n",
       "\n",
       "    .dataframe thead tr th {\n",
       "        text-align: left;\n",
       "    }\n",
       "\n",
       "    .dataframe thead tr:last-of-type th {\n",
       "        text-align: right;\n",
       "    }\n",
       "</style>\n",
       "<table border=\"1\" class=\"dataframe\">\n",
       "  <thead>\n",
       "    <tr>\n",
       "      <th></th>\n",
       "      <th colspan=\"3\" halign=\"left\">days_since_prior_order</th>\n",
       "      <th colspan=\"3\" halign=\"left\">prices</th>\n",
       "    </tr>\n",
       "    <tr>\n",
       "      <th></th>\n",
       "      <th>min</th>\n",
       "      <th>max</th>\n",
       "      <th>mean</th>\n",
       "      <th>min</th>\n",
       "      <th>max</th>\n",
       "      <th>mean</th>\n",
       "    </tr>\n",
       "    <tr>\n",
       "      <th>age_flag</th>\n",
       "      <th></th>\n",
       "      <th></th>\n",
       "      <th></th>\n",
       "      <th></th>\n",
       "      <th></th>\n",
       "      <th></th>\n",
       "    </tr>\n",
       "  </thead>\n",
       "  <tbody>\n",
       "    <tr>\n",
       "      <th>Adult</th>\n",
       "      <td>0.0</td>\n",
       "      <td>30.0</td>\n",
       "      <td>11.124272</td>\n",
       "      <td>1.0</td>\n",
       "      <td>99999.0</td>\n",
       "      <td>11.693065</td>\n",
       "    </tr>\n",
       "    <tr>\n",
       "      <th>Middle Aged</th>\n",
       "      <td>0.0</td>\n",
       "      <td>30.0</td>\n",
       "      <td>11.125283</td>\n",
       "      <td>1.0</td>\n",
       "      <td>99999.0</td>\n",
       "      <td>12.294543</td>\n",
       "    </tr>\n",
       "    <tr>\n",
       "      <th>Senior</th>\n",
       "      <td>0.0</td>\n",
       "      <td>30.0</td>\n",
       "      <td>11.080959</td>\n",
       "      <td>1.0</td>\n",
       "      <td>99999.0</td>\n",
       "      <td>11.610695</td>\n",
       "    </tr>\n",
       "    <tr>\n",
       "      <th>Young Adult</th>\n",
       "      <td>0.0</td>\n",
       "      <td>30.0</td>\n",
       "      <td>11.103340</td>\n",
       "      <td>1.0</td>\n",
       "      <td>99999.0</td>\n",
       "      <td>12.149177</td>\n",
       "    </tr>\n",
       "  </tbody>\n",
       "</table>\n",
       "</div>"
      ],
      "text/plain": [
       "            days_since_prior_order                  prices                    \n",
       "                               min   max       mean    min      max       mean\n",
       "age_flag                                                                      \n",
       "Adult                          0.0  30.0  11.124272    1.0  99999.0  11.693065\n",
       "Middle Aged                    0.0  30.0  11.125283    1.0  99999.0  12.294543\n",
       "Senior                         0.0  30.0  11.080959    1.0  99999.0  11.610695\n",
       "Young Adult                    0.0  30.0  11.103340    1.0  99999.0  12.149177"
      ]
     },
     "execution_count": 28,
     "metadata": {},
     "output_type": "execute_result"
    }
   ],
   "source": [
    "#Check\n",
    "age_agg"
   ]
  },
  {
   "cell_type": "code",
   "execution_count": 29,
   "id": "edb887f5",
   "metadata": {},
   "outputs": [],
   "source": [
    "#Aggregate by income\n",
    "income_agg = df.groupby('income_flag').agg({'days_since_prior_order': ['min', 'max', 'mean'], 'prices': ['min', 'max', 'mean']})"
   ]
  },
  {
   "cell_type": "code",
   "execution_count": 30,
   "id": "eb607bd1",
   "metadata": {},
   "outputs": [],
   "source": [
    "# Aggregate by dependants\n",
    "family_agg = df.groupby('family_flag').agg({'days_since_prior_order': ['min', 'max', 'mean'], 'prices': ['min', 'max', 'mean']})"
   ]
  },
  {
   "cell_type": "code",
   "execution_count": 31,
   "id": "5993ac1b",
   "metadata": {},
   "outputs": [
    {
     "data": {
      "text/html": [
       "<div>\n",
       "<style scoped>\n",
       "    .dataframe tbody tr th:only-of-type {\n",
       "        vertical-align: middle;\n",
       "    }\n",
       "\n",
       "    .dataframe tbody tr th {\n",
       "        vertical-align: top;\n",
       "    }\n",
       "\n",
       "    .dataframe thead tr th {\n",
       "        text-align: left;\n",
       "    }\n",
       "\n",
       "    .dataframe thead tr:last-of-type th {\n",
       "        text-align: right;\n",
       "    }\n",
       "</style>\n",
       "<table border=\"1\" class=\"dataframe\">\n",
       "  <thead>\n",
       "    <tr>\n",
       "      <th></th>\n",
       "      <th colspan=\"3\" halign=\"left\">days_since_prior_order</th>\n",
       "      <th colspan=\"3\" halign=\"left\">prices</th>\n",
       "    </tr>\n",
       "    <tr>\n",
       "      <th></th>\n",
       "      <th>min</th>\n",
       "      <th>max</th>\n",
       "      <th>mean</th>\n",
       "      <th>min</th>\n",
       "      <th>max</th>\n",
       "      <th>mean</th>\n",
       "    </tr>\n",
       "    <tr>\n",
       "      <th>income_flag</th>\n",
       "      <th></th>\n",
       "      <th></th>\n",
       "      <th></th>\n",
       "      <th></th>\n",
       "      <th></th>\n",
       "      <th></th>\n",
       "    </tr>\n",
       "  </thead>\n",
       "  <tbody>\n",
       "    <tr>\n",
       "      <th>High Income</th>\n",
       "      <td>0.0</td>\n",
       "      <td>30.0</td>\n",
       "      <td>10.315939</td>\n",
       "      <td>1.0</td>\n",
       "      <td>99999.0</td>\n",
       "      <td>257.410014</td>\n",
       "    </tr>\n",
       "    <tr>\n",
       "      <th>Low Income</th>\n",
       "      <td>0.0</td>\n",
       "      <td>30.0</td>\n",
       "      <td>11.604677</td>\n",
       "      <td>1.0</td>\n",
       "      <td>25.0</td>\n",
       "      <td>6.698974</td>\n",
       "    </tr>\n",
       "    <tr>\n",
       "      <th>Middle Income</th>\n",
       "      <td>0.0</td>\n",
       "      <td>30.0</td>\n",
       "      <td>11.057740</td>\n",
       "      <td>1.0</td>\n",
       "      <td>99999.0</td>\n",
       "      <td>9.939943</td>\n",
       "    </tr>\n",
       "  </tbody>\n",
       "</table>\n",
       "</div>"
      ],
      "text/plain": [
       "              days_since_prior_order                  prices           \\\n",
       "                                 min   max       mean    min      max   \n",
       "income_flag                                                             \n",
       "High Income                      0.0  30.0  10.315939    1.0  99999.0   \n",
       "Low Income                       0.0  30.0  11.604677    1.0     25.0   \n",
       "Middle Income                    0.0  30.0  11.057740    1.0  99999.0   \n",
       "\n",
       "                           \n",
       "                     mean  \n",
       "income_flag                \n",
       "High Income    257.410014  \n",
       "Low Income       6.698974  \n",
       "Middle Income    9.939943  "
      ]
     },
     "execution_count": 31,
     "metadata": {},
     "output_type": "execute_result"
    }
   ],
   "source": [
    "#Check\n",
    "income_agg"
   ]
  },
  {
   "cell_type": "code",
   "execution_count": 32,
   "id": "60259a8a",
   "metadata": {},
   "outputs": [
    {
     "data": {
      "text/html": [
       "<div>\n",
       "<style scoped>\n",
       "    .dataframe tbody tr th:only-of-type {\n",
       "        vertical-align: middle;\n",
       "    }\n",
       "\n",
       "    .dataframe tbody tr th {\n",
       "        vertical-align: top;\n",
       "    }\n",
       "\n",
       "    .dataframe thead tr th {\n",
       "        text-align: left;\n",
       "    }\n",
       "\n",
       "    .dataframe thead tr:last-of-type th {\n",
       "        text-align: right;\n",
       "    }\n",
       "</style>\n",
       "<table border=\"1\" class=\"dataframe\">\n",
       "  <thead>\n",
       "    <tr>\n",
       "      <th></th>\n",
       "      <th colspan=\"3\" halign=\"left\">days_since_prior_order</th>\n",
       "      <th colspan=\"3\" halign=\"left\">prices</th>\n",
       "    </tr>\n",
       "    <tr>\n",
       "      <th></th>\n",
       "      <th>min</th>\n",
       "      <th>max</th>\n",
       "      <th>mean</th>\n",
       "      <th>min</th>\n",
       "      <th>max</th>\n",
       "      <th>mean</th>\n",
       "    </tr>\n",
       "    <tr>\n",
       "      <th>family_flag</th>\n",
       "      <th></th>\n",
       "      <th></th>\n",
       "      <th></th>\n",
       "      <th></th>\n",
       "      <th></th>\n",
       "      <th></th>\n",
       "    </tr>\n",
       "  </thead>\n",
       "  <tbody>\n",
       "    <tr>\n",
       "      <th>Family</th>\n",
       "      <td>0.0</td>\n",
       "      <td>30.0</td>\n",
       "      <td>11.119048</td>\n",
       "      <td>1.0</td>\n",
       "      <td>99999.0</td>\n",
       "      <td>11.834785</td>\n",
       "    </tr>\n",
       "    <tr>\n",
       "      <th>Single</th>\n",
       "      <td>0.0</td>\n",
       "      <td>30.0</td>\n",
       "      <td>11.084925</td>\n",
       "      <td>1.0</td>\n",
       "      <td>99999.0</td>\n",
       "      <td>12.163131</td>\n",
       "    </tr>\n",
       "  </tbody>\n",
       "</table>\n",
       "</div>"
      ],
      "text/plain": [
       "            days_since_prior_order                  prices                    \n",
       "                               min   max       mean    min      max       mean\n",
       "family_flag                                                                   \n",
       "Family                         0.0  30.0  11.119048    1.0  99999.0  11.834785\n",
       "Single                         0.0  30.0  11.084925    1.0  99999.0  12.163131"
      ]
     },
     "execution_count": 32,
     "metadata": {},
     "output_type": "execute_result"
    }
   ],
   "source": [
    "# Check\n",
    "family_agg"
   ]
  },
  {
   "cell_type": "markdown",
   "id": "90b4d771",
   "metadata": {},
   "source": [
    "# 7. Creating Visualizations"
   ]
  },
  {
   "cell_type": "code",
   "execution_count": 33,
   "id": "faabccd5",
   "metadata": {},
   "outputs": [
    {
     "data": {
      "image/png": "[encoded data removed]",
      "text/plain": [
       "<Figure size 640x480 with 1 Axes>"
      ]
     },
     "metadata": {},
     "output_type": "display_data"
    }
   ],
   "source": [
    "# Age profile Pie Chart\n",
    "age_pie_chart = df['age_flag'].value_counts().plot.pie(title = 'Customer Age', label = '', autopct = '%1.f%%')"
   ]
  },
  {
   "cell_type": "code",
   "execution_count": 34,
   "id": "338c8a3a",
   "metadata": {},
   "outputs": [],
   "source": [
    "# age_region crosstab\n",
    "Age_Region = pd.crosstab(df['Region'], df['age_flag'], dropna = False)"
   ]
  },
  {
   "cell_type": "code",
   "execution_count": 35,
   "id": "a561726c",
   "metadata": {},
   "outputs": [
    {
     "data": {
      "text/html": [
       "<div>\n",
       "<style scoped>\n",
       "    .dataframe tbody tr th:only-of-type {\n",
       "        vertical-align: middle;\n",
       "    }\n",
       "\n",
       "    .dataframe tbody tr th {\n",
       "        vertical-align: top;\n",
       "    }\n",
       "\n",
       "    .dataframe thead th {\n",
       "        text-align: right;\n",
       "    }\n",
       "</style>\n",
       "<table border=\"1\" class=\"dataframe\">\n",
       "  <thead>\n",
       "    <tr style=\"text-align: right;\">\n",
       "      <th>age_flag</th>\n",
       "      <th>Adult</th>\n",
       "      <th>Middle Aged</th>\n",
       "      <th>Senior</th>\n",
       "      <th>Young Adult</th>\n",
       "    </tr>\n",
       "    <tr>\n",
       "      <th>Region</th>\n",
       "      <th></th>\n",
       "      <th></th>\n",
       "      <th></th>\n",
       "      <th></th>\n",
       "    </tr>\n",
       "  </thead>\n",
       "  <tbody>\n",
       "    <tr>\n",
       "      <th>Region 1</th>\n",
       "      <td>1588273</td>\n",
       "      <td>1679427</td>\n",
       "      <td>1478732</td>\n",
       "      <td>675593</td>\n",
       "    </tr>\n",
       "    <tr>\n",
       "      <th>Region 2</th>\n",
       "      <td>2145309</td>\n",
       "      <td>2271680</td>\n",
       "      <td>1875272</td>\n",
       "      <td>884663</td>\n",
       "    </tr>\n",
       "    <tr>\n",
       "      <th>Region 3</th>\n",
       "      <td>2871841</td>\n",
       "      <td>2990914</td>\n",
       "      <td>2511181</td>\n",
       "      <td>1226073</td>\n",
       "    </tr>\n",
       "    <tr>\n",
       "      <th>Region 4</th>\n",
       "      <td>2500321</td>\n",
       "      <td>2658912</td>\n",
       "      <td>2232386</td>\n",
       "      <td>1039164</td>\n",
       "    </tr>\n",
       "  </tbody>\n",
       "</table>\n",
       "</div>"
      ],
      "text/plain": [
       "age_flag    Adult  Middle Aged   Senior  Young Adult\n",
       "Region                                              \n",
       "Region 1  1588273      1679427  1478732       675593\n",
       "Region 2  2145309      2271680  1875272       884663\n",
       "Region 3  2871841      2990914  2511181      1226073\n",
       "Region 4  2500321      2658912  2232386      1039164"
      ]
     },
     "execution_count": 35,
     "metadata": {},
     "output_type": "execute_result"
    }
   ],
   "source": [
    "#Check\n",
    "Age_Region"
   ]
  },
  {
   "cell_type": "code",
   "execution_count": 44,
   "id": "6c92e9cf",
   "metadata": {},
   "outputs": [],
   "source": [
    "# Copy to Clipboard\n",
    "Age_Region.to_clipboard()"
   ]
  },
  {
   "cell_type": "code",
   "execution_count": 37,
   "id": "b98c3f57",
   "metadata": {},
   "outputs": [
    {
     "data": {
      "text/plain": [
       "<matplotlib.legend.Legend at 0x26a485050f0>"
      ]
     },
     "execution_count": 37,
     "metadata": {},
     "output_type": "execute_result"
    },
    {
     "data": {
      "image/png": "[encoded data removed]",
      "text/plain": [
       "<Figure size 640x480 with 1 Axes>"
      ]
     },
     "metadata": {},
     "output_type": "display_data"
    }
   ],
   "source": [
    "#Age vs Region Bar\n",
    "age_region_bar = Age_Region.plot.bar(title = 'Age by Region', color = {'Young Adult': 'red', 'Adult': 'blue', 'Middle Aged': 'green', 'Senior': 'yellow'})\n",
    "plt.legend(bbox_to_anchor = (1.0, 1.0))\n"
   ]
  },
  {
   "cell_type": "markdown",
   "id": "7cf9b436",
   "metadata": {},
   "source": [
    "# 8. Exporting Visualizations "
   ]
  },
  {
   "cell_type": "code",
   "execution_count": 40,
   "id": "08f85673",
   "metadata": {},
   "outputs": [],
   "source": [
    "# path to visualizations folder\n",
    "\n",
    "path_2 = r'C:\\Users\\justi\\OneDrive\\Desktop\\Class work\\Achievement 4 Python (Instacart Basket Analysis)\\Visualizations'"
   ]
  },
  {
   "cell_type": "code",
   "execution_count": 41,
   "id": "ec85c18f",
   "metadata": {},
   "outputs": [],
   "source": [
    "#Export age_pie_chart\n",
    "age_pie_chart.figure.savefig(os.path.join(path_2, 'customer_age_pie.png'), bbox_inches = 'tight')"
   ]
  },
  {
   "cell_type": "code",
   "execution_count": 42,
   "id": "af46acf3",
   "metadata": {},
   "outputs": [],
   "source": [
    "# Export age vs region bar chart\n",
    "age_region_bar.figure.savefig(os.path.join(path_2, 'Age_by_region_bar.png'), bbox_inches = 'tight')"
   ]
  },
  {
   "cell_type": "markdown",
   "id": "c13ceba6",
   "metadata": {},
   "source": [
    "# 9. Exporting Data"
   ]
  },
  {
   "cell_type": "code",
   "execution_count": 43,
   "id": "f6c215e2",
   "metadata": {},
   "outputs": [],
   "source": [
    "# export data set\n",
    "df.to_pickle(os.path.join(path, 'prepared data', 'merged_data_with_customer_profiles_1.pkl'))"
   ]
  },
  {
   "cell_type": "markdown",
   "id": "e3489f2e",
   "metadata": {},
   "source": [
    "Starting New notebook for remainder of task"
   ]
  },
  {
   "cell_type": "code",
   "execution_count": null,
   "id": "86c3665f",
   "metadata": {},
   "outputs": [],
   "source": []
  }
 ],
 "metadata": {
  "kernelspec": {
   "display_name": "Python 3 (ipykernel)",
   "language": "python",
   "name": "python3"
  },
  "language_info": {
   "codemirror_mode": {
    "name": "ipython",
    "version": 3
   },
   "file_extension": ".py",
   "mimetype": "text/x-python",
   "name": "python",
   "nbconvert_exporter": "python",
   "pygments_lexer": "ipython3",
   "version": "3.10.9"
  }
 },
 "nbformat": 4,
 "nbformat_minor": 5
}
