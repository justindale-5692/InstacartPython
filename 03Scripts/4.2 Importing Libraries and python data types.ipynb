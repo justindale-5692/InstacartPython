{
 "cells": [
  {
   "cell_type": "markdown",
   "id": "c9e4233c",
   "metadata": {},
   "source": [
    "# 4.2 Importing Librariesx and python data types"
   ]
  },
  {
   "cell_type": "markdown",
   "id": "44e681d2",
   "metadata": {},
   "source": [
    "# Contents:\n",
    "1. Importing Libraries\n",
    "2. Working with Python data types"
   ]
  },
  {
   "cell_type": "markdown",
   "id": "2ac8a1cf",
   "metadata": {},
   "source": [
    "# 1.Importing Libraries"
   ]
  },
  {
   "cell_type": "code",
   "execution_count": 1,
   "id": "3c8f1892",
   "metadata": {},
   "outputs": [],
   "source": [
    "# Import Libraries\n",
    "import pandas as pd\n",
    "import numpy as np\n",
    "import os"
   ]
  },
  {
   "cell_type": "markdown",
   "id": "067deef7",
   "metadata": {},
   "source": [
    "Task 4.2"
   ]
  },
  {
   "cell_type": "markdown",
   "id": "3b6d9dfd",
   "metadata": {},
   "source": [
    "# 02.Working with python data types"
   ]
  },
  {
   "cell_type": "code",
   "execution_count": 1,
   "id": "6a84e7b0",
   "metadata": {},
   "outputs": [],
   "source": [
    "x = 125"
   ]
  },
  {
   "cell_type": "code",
   "execution_count": 2,
   "id": "4a6a31e9",
   "metadata": {},
   "outputs": [],
   "source": [
    "y = 25"
   ]
  },
  {
   "cell_type": "code",
   "execution_count": 3,
   "id": "ea1ecdf6",
   "metadata": {},
   "outputs": [
    {
     "data": {
      "text/plain": [
       "100"
      ]
     },
     "execution_count": 3,
     "metadata": {},
     "output_type": "execute_result"
    }
   ],
   "source": [
    "x - y"
   ]
  },
  {
   "cell_type": "code",
   "execution_count": 6,
   "id": "5e1724bc",
   "metadata": {},
   "outputs": [],
   "source": [
    "a = 24"
   ]
  },
  {
   "cell_type": "code",
   "execution_count": 5,
   "id": "4d9b77d2",
   "metadata": {},
   "outputs": [],
   "source": [
    "b = 76\n"
   ]
  },
  {
   "cell_type": "code",
   "execution_count": 7,
   "id": "64103417",
   "metadata": {},
   "outputs": [
    {
     "data": {
      "text/plain": [
       "100"
      ]
     },
     "execution_count": 7,
     "metadata": {},
     "output_type": "execute_result"
    }
   ],
   "source": [
    "a + b"
   ]
  },
  {
   "cell_type": "code",
   "execution_count": 8,
   "id": "86fce10f",
   "metadata": {},
   "outputs": [],
   "source": [
    "c = 46"
   ]
  },
  {
   "cell_type": "code",
   "execution_count": 9,
   "id": "32405fd0",
   "metadata": {},
   "outputs": [],
   "source": [
    "d = 54"
   ]
  },
  {
   "cell_type": "code",
   "execution_count": 10,
   "id": "2fc45793",
   "metadata": {},
   "outputs": [
    {
     "data": {
      "text/plain": [
       "100"
      ]
     },
     "execution_count": 10,
     "metadata": {},
     "output_type": "execute_result"
    }
   ],
   "source": [
    "c + d"
   ]
  },
  {
   "cell_type": "code",
   "execution_count": 11,
   "id": "befa6594",
   "metadata": {},
   "outputs": [],
   "source": [
    "e = 6.788"
   ]
  },
  {
   "cell_type": "code",
   "execution_count": 12,
   "id": "9aaef667",
   "metadata": {},
   "outputs": [],
   "source": [
    "f = 2.5"
   ]
  },
  {
   "cell_type": "code",
   "execution_count": 13,
   "id": "79ff987d",
   "metadata": {},
   "outputs": [
    {
     "data": {
      "text/plain": [
       "2.7152000000000003"
      ]
     },
     "execution_count": 13,
     "metadata": {},
     "output_type": "execute_result"
    }
   ],
   "source": [
    "e / f"
   ]
  },
  {
   "cell_type": "code",
   "execution_count": 16,
   "id": "16ae808f",
   "metadata": {},
   "outputs": [],
   "source": [
    "g = 'Week'"
   ]
  },
  {
   "cell_type": "code",
   "execution_count": 15,
   "id": "9dfc7ea2",
   "metadata": {},
   "outputs": [],
   "source": [
    "h = 'end'"
   ]
  },
  {
   "cell_type": "code",
   "execution_count": 17,
   "id": "e5f82d05",
   "metadata": {},
   "outputs": [
    {
     "data": {
      "text/plain": [
       "'Weekend'"
      ]
     },
     "execution_count": 17,
     "metadata": {},
     "output_type": "execute_result"
    }
   ],
   "source": [
    "g + h"
   ]
  },
  {
   "cell_type": "code",
   "execution_count": 18,
   "id": "c19f5deb",
   "metadata": {},
   "outputs": [],
   "source": [
    "i = 'Take'"
   ]
  },
  {
   "cell_type": "code",
   "execution_count": 25,
   "id": "8ccdb40f",
   "metadata": {},
   "outputs": [],
   "source": [
    "j = ' the'"
   ]
  },
  {
   "cell_type": "code",
   "execution_count": 27,
   "id": "698be531",
   "metadata": {},
   "outputs": [],
   "source": [
    "k = ' dog'"
   ]
  },
  {
   "cell_type": "code",
   "execution_count": 28,
   "id": "daa1434c",
   "metadata": {},
   "outputs": [],
   "source": [
    "l = ' for'"
   ]
  },
  {
   "cell_type": "code",
   "execution_count": 29,
   "id": "130573b0",
   "metadata": {},
   "outputs": [],
   "source": [
    "m = ' a'"
   ]
  },
  {
   "cell_type": "code",
   "execution_count": 30,
   "id": "2af9b1e5",
   "metadata": {},
   "outputs": [],
   "source": [
    "n = ' walk.'"
   ]
  },
  {
   "cell_type": "code",
   "execution_count": 31,
   "id": "990c9b60",
   "metadata": {},
   "outputs": [
    {
     "data": {
      "text/plain": [
       "'Take the dog for a walk.'"
      ]
     },
     "execution_count": 31,
     "metadata": {},
     "output_type": "execute_result"
    }
   ],
   "source": [
    "i + j + k + l + m + n"
   ]
  },
  {
   "cell_type": "code",
   "execution_count": 32,
   "id": "52b91e34",
   "metadata": {},
   "outputs": [],
   "source": [
    "o = 'Eat'"
   ]
  },
  {
   "cell_type": "code",
   "execution_count": 33,
   "id": "9c323eec",
   "metadata": {},
   "outputs": [],
   "source": [
    "p = ' your'"
   ]
  },
  {
   "cell_type": "code",
   "execution_count": 34,
   "id": "35c939b1",
   "metadata": {},
   "outputs": [],
   "source": [
    "q = ' breakfast.'"
   ]
  },
  {
   "cell_type": "code",
   "execution_count": 35,
   "id": "b7848f98",
   "metadata": {},
   "outputs": [
    {
     "data": {
      "text/plain": [
       "'Eat your breakfast.'"
      ]
     },
     "execution_count": 35,
     "metadata": {},
     "output_type": "execute_result"
    }
   ],
   "source": [
    "o + p + q"
   ]
  },
  {
   "cell_type": "code",
   "execution_count": 37,
   "id": "d90b0624",
   "metadata": {},
   "outputs": [
    {
     "data": {
      "text/plain": [
       "' dog dog dog dog dog dog dog dog dog dog dog dog dog dog dog dog dog dog dog dog dog dog dog dog dog dog dog dog dog dog dog dog dog dog dog dog dog dog dog dog dog dog dog dog dog dog dog dog dog dog dog dog dog dog dog dog dog dog dog dog dog dog dog dog dog dog dog dog dog dog dog dog dog dog dog dog dog dog dog dog dog dog dog dog dog dog dog dog dog dog dog dog dog dog dog dog dog dog dog dog'"
      ]
     },
     "execution_count": 37,
     "metadata": {},
     "output_type": "execute_result"
    }
   ],
   "source": [
    "# Bonus task\n",
    "k * 100"
   ]
  },
  {
   "cell_type": "code",
   "execution_count": null,
   "id": "b56048e4",
   "metadata": {},
   "outputs": [],
   "source": []
  }
 ],
 "metadata": {
  "kernelspec": {
   "display_name": "Python 3 (ipykernel)",
   "language": "python",
   "name": "python3"
  },
  "language_info": {
   "codemirror_mode": {
    "name": "ipython",
    "version": 3
   },
   "file_extension": ".py",
   "mimetype": "text/x-python",
   "name": "python",
   "nbconvert_exporter": "python",
   "pygments_lexer": "ipython3",
   "version": "3.10.9"
  }
 },
 "nbformat": 4,
 "nbformat_minor": 5
}
