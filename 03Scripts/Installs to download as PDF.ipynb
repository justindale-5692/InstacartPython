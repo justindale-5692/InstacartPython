{
 "cells": [
  {
   "cell_type": "code",
   "execution_count": 1,
   "id": "fd5bb5e0",
   "metadata": {},
   "outputs": [
    {
     "name": "stdout",
     "output_type": "stream",
     "text": [
      "Retrieving notices: ...working... done\n",
      "Collecting package metadata (current_repodata.json): ...working... done\n",
      "Solving environment: ...working... done\n",
      "\n",
      "# All requested packages already installed.\n",
      "\n",
      "\n",
      "Note: you may need to restart the kernel to use updated packages.\n"
     ]
    },
    {
     "name": "stderr",
     "output_type": "stream",
     "text": [
      "\n",
      "\n",
      "==> WARNING: A newer version of conda exists. <==\n",
      "  current version: 23.3.1\n",
      "  latest version: 23.5.0\n",
      "\n",
      "Please update conda by running\n",
      "\n",
      "    $ conda update -n base -c defaults conda\n",
      "\n",
      "Or to minimize the number of packages updated during conda update use\n",
      "\n",
      "     conda install conda=23.5.0\n",
      "\n",
      "\n"
     ]
    }
   ],
   "source": [
    "conda install nbconvert"
   ]
  },
  {
   "cell_type": "code",
   "execution_count": 2,
   "id": "9ebb0ff8",
   "metadata": {},
   "outputs": [
    {
     "name": "stdout",
     "output_type": "stream",
     "text": [
      "Collecting package metadata (current_repodata.json): ...working... done\n",
      "Solving environment: ...working... done\n",
      "\n",
      "## Package Plan ##\n",
      "\n",
      "  environment location: C:\\Users\\justi\\anaconda3\n",
      "\n",
      "  added / updated specs:\n",
      "    - conda=23.5.0\n",
      "\n",
      "\n",
      "The following packages will be downloaded:\n",
      "\n",
      "    package                    |            build\n",
      "    ---------------------------|-----------------\n",
      "    conda-23.5.0               |  py310haa95532_0         1.0 MB\n",
      "    packaging-23.0             |  py310haa95532_0          70 KB\n",
      "    ------------------------------------------------------------\n",
      "                                           Total:         1.1 MB\n",
      "\n",
      "The following packages will be UPDATED:\n",
      "\n",
      "  conda                              23.3.1-py310haa95532_0 --> 23.5.0-py310haa95532_0 \n",
      "  packaging                            22.0-py310haa95532_0 --> 23.0-py310haa95532_0 \n",
      "\n",
      "\n",
      "\n",
      "Downloading and Extracting Packages\n",
      "\n",
      "conda-23.5.0         | 1.0 MB    |            |   0% \n",
      "\n",
      "packaging-23.0       | 70 KB     |            |   0% \u001b[A\n",
      "\n",
      "packaging-23.0       | 70 KB     | ##2        |  23% \u001b[A\n",
      "conda-23.5.0         | 1.0 MB    | 1          |   2% \n",
      "conda-23.5.0         | 1.0 MB    | ###4       |  34% \n",
      "\n",
      "packaging-23.0       | 70 KB     | ########## | 100% \u001b[A\n",
      "\n",
      "packaging-23.0       | 70 KB     | ########## | 100% \u001b[A\n",
      "conda-23.5.0         | 1.0 MB    | ######9    |  70% \n",
      "conda-23.5.0         | 1.0 MB    | ########## | 100% \n",
      "conda-23.5.0         | 1.0 MB    | ########## | 100% \n",
      "                                                     \n",
      "\n",
      "\n",
      "                                                     \u001b[A\n",
      "\n",
      "Preparing transaction: ...working... done\n",
      "Verifying transaction: ...working... done\n",
      "Executing transaction: ...working... done\n",
      "\n",
      "Note: you may need to restart the kernel to use updated packages.\n"
     ]
    }
   ],
   "source": [
    "conda install conda=23.5.0"
   ]
  },
  {
   "cell_type": "code",
   "execution_count": 1,
   "id": "4feb1a90",
   "metadata": {},
   "outputs": [
    {
     "ename": "SyntaxError",
     "evalue": "cannot assign to expression here. Maybe you meant '==' instead of '='? (501847518.py, line 1)",
     "output_type": "error",
     "traceback": [
      "\u001b[1;36m  Cell \u001b[1;32mIn[1], line 1\u001b[1;36m\u001b[0m\n\u001b[1;33m    initexmf --set-config-value=[MPM]AutoInstall=yes\u001b[0m\n\u001b[1;37m    ^\u001b[0m\n\u001b[1;31mSyntaxError\u001b[0m\u001b[1;31m:\u001b[0m cannot assign to expression here. Maybe you meant '==' instead of '='?\n"
     ]
    }
   ],
   "source": [
    "initexmf --set-config-value=[MPM]AutoInstall=yes"
   ]
  },
  {
   "cell_type": "code",
   "execution_count": null,
   "id": "3c53f031",
   "metadata": {},
   "outputs": [],
   "source": []
  }
 ],
 "metadata": {
  "kernelspec": {
   "display_name": "Python 3 (ipykernel)",
   "language": "python",
   "name": "python3"
  },
  "language_info": {
   "codemirror_mode": {
    "name": "ipython",
    "version": 3
   },
   "file_extension": ".py",
   "mimetype": "text/x-python",
   "name": "python",
   "nbconvert_exporter": "python",
   "pygments_lexer": "ipython3",
   "version": "3.10.9"
  }
 },
 "nbformat": 4,
 "nbformat_minor": 5
}
